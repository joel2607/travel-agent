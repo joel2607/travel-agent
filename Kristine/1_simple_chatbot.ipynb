{
 "cells": [
  {
   "cell_type": "markdown",
   "id": "469438e0",
   "metadata": {},
   "source": [
    "- load all api keys from .env file"
   ]
  },
  {
   "cell_type": "code",
   "execution_count": 1,
   "id": "69675d47",
   "metadata": {},
   "outputs": [
    {
     "data": {
      "text/plain": [
       "True"
      ]
     },
     "execution_count": 1,
     "metadata": {},
     "output_type": "execute_result"
    }
   ],
   "source": [
    "from dotenv import load_dotenv\n",
    "\n",
    "load_dotenv(override=True)"
   ]
  },
  {
   "cell_type": "markdown",
   "id": "76c5c001",
   "metadata": {},
   "source": [
    "### 1. Bulding State and Graph"
   ]
  },
  {
   "cell_type": "markdown",
   "id": "1155b8a9",
   "metadata": {},
   "source": [
    "- Each node can receive the current State as input and output an update to the state.\n",
    "- reducer function = add_messages (appends to list of msgs rather than overriting it)"
   ]
  },
  {
   "cell_type": "code",
   "execution_count": 2,
   "id": "771d640c",
   "metadata": {},
   "outputs": [],
   "source": [
    "from typing import Annotated, TypedDict\n",
    "from langgraph.graph import StateGraph, START, END\n",
    "from langgraph.graph.message import add_messages\n",
    "\n",
    "class State(TypedDict):\n",
    "    messages: Annotated[list, add_messages]\n",
    "\n",
    "graph_builder = StateGraph(State)"
   ]
  },
  {
   "cell_type": "markdown",
   "id": "cde3fd4b",
   "metadata": {},
   "source": [
    "### 2. Using Tools"
   ]
  },
  {
   "cell_type": "code",
   "execution_count": 3,
   "id": "df7a33d0",
   "metadata": {},
   "outputs": [],
   "source": [
    "from langchain_community.utilities import GoogleSerperAPIWrapper\n",
    "from langchain.agents import Tool\n",
    "\n",
    "serper = GoogleSerperAPIWrapper()\n",
    "\n",
    "tool_search =Tool(\n",
    "        name = \"search\",\n",
    "        func = serper.run,\n",
    "        description = \"If required make an online search to find the answer\"\n",
    "    )\n"
   ]
  },
  {
   "cell_type": "markdown",
   "id": "c106c190",
   "metadata": {},
   "source": [
    "example tool use:"
   ]
  },
  {
   "cell_type": "code",
   "execution_count": 15,
   "id": "b762c3b9",
   "metadata": {},
   "outputs": [
    {
     "data": {
      "text/plain": [
       "'90°F'"
      ]
     },
     "execution_count": 15,
     "metadata": {},
     "output_type": "execute_result"
    }
   ],
   "source": [
    "serper.run(\"Whats the weather in Vellore, Tamil Nadu now?\")"
   ]
  },
  {
   "cell_type": "code",
   "execution_count": 4,
   "id": "f278983a",
   "metadata": {},
   "outputs": [
    {
     "name": "stdout",
     "output_type": "stream",
     "text": [
      "click_element : async_browser=<Browser type=<BrowserType name=chromium executable_path=C:\\Users\\KRISTINE\\AppData\\Local\\ms-playwright\\chromium-1169\\chrome-win\\chrome.exe> version=136.0.7103.25>\n",
      "navigate_browser : async_browser=<Browser type=<BrowserType name=chromium executable_path=C:\\Users\\KRISTINE\\AppData\\Local\\ms-playwright\\chromium-1169\\chrome-win\\chrome.exe> version=136.0.7103.25>\n",
      "previous_webpage : async_browser=<Browser type=<BrowserType name=chromium executable_path=C:\\Users\\KRISTINE\\AppData\\Local\\ms-playwright\\chromium-1169\\chrome-win\\chrome.exe> version=136.0.7103.25>\n",
      "extract_text : async_browser=<Browser type=<BrowserType name=chromium executable_path=C:\\Users\\KRISTINE\\AppData\\Local\\ms-playwright\\chromium-1169\\chrome-win\\chrome.exe> version=136.0.7103.25>\n",
      "extract_hyperlinks : async_browser=<Browser type=<BrowserType name=chromium executable_path=C:\\Users\\KRISTINE\\AppData\\Local\\ms-playwright\\chromium-1169\\chrome-win\\chrome.exe> version=136.0.7103.25>\n",
      "get_elements : async_browser=<Browser type=<BrowserType name=chromium executable_path=C:\\Users\\KRISTINE\\AppData\\Local\\ms-playwright\\chromium-1169\\chrome-win\\chrome.exe> version=136.0.7103.25>\n",
      "current_webpage : async_browser=<Browser type=<BrowserType name=chromium executable_path=C:\\Users\\KRISTINE\\AppData\\Local\\ms-playwright\\chromium-1169\\chrome-win\\chrome.exe> version=136.0.7103.25>\n"
     ]
    }
   ],
   "source": [
    "from langchain_community.agent_toolkits import PlayWrightBrowserToolkit\n",
    "from langchain_community.tools.playwright.utils import create_async_playwright_browser\n",
    "\n",
    "import nest_asyncio\n",
    "nest_asyncio.apply()\n",
    "\n",
    "async_browser =  create_async_playwright_browser(headless=False)\n",
    "toolkit = PlayWrightBrowserToolkit.from_browser(async_browser=async_browser)\n",
    "playwright_tools = toolkit.get_tools()\n",
    "\n",
    "for tool in playwright_tools:\n",
    "    print(f\"{tool.name} : {tool}\")"
   ]
  },
  {
   "cell_type": "markdown",
   "id": "911630ee",
   "metadata": {},
   "source": [
    "example tool use:"
   ]
  },
  {
   "cell_type": "code",
   "execution_count": 16,
   "id": "d1fe0d1b",
   "metadata": {},
   "outputs": [
    {
     "name": "stdout",
     "output_type": "stream",
     "text": [
      "Breaking News, Latest News and Videos | CNN CNN values your feedback 1. How relevant is this ad to you? 2. Did you encounter any technical issues? Video player was slow to load content Video content never loaded Ad froze or did not finish loading Video content did not start after ad Audio on ad was too loud Other issues Ad never loaded Ad prevented/slowed the page from loading Content moved around while ad loaded Ad was repetitive to ads I've seen previously Other issues Cancel Submit Thank You! Your effort and contribution in providing this feedback is much\n",
      "                                        appreciated. Close Ad Feedback Close icon US World Politics Business Health Entertainment Style Travel Sports Science Climate Weather Ukraine-Russia War Israel-Hamas War Games More US World Politics Business Health Entertainment Style Travel Sports Science Climate Weather Ukraine-Russia War Israel-Hamas War Games Watch Listen Live TV Subscribe Sign in My Account Settings Newsletters Topics you follow Sign out Your CNN account Sign in to your CNN account Sign in My Account Settings Newsletters Topics you follow Sign out Your CNN account Sign in to your CNN account Live TV Listen Watch Edition US International Arabic Español Edition US International Arabic Español World Africa Americas Asia Australia China Europe India Middle East United Kingdom US Politics Trump Facts First CNN Polls 2025 Elections Business Tech Media Calculators Videos Markets Pre-markets After-Hours Fear & Greed Investing Markets Now Nightcap Health Life, But Better Fitness Food Sleep Mindfulness Relationships Entertainment Movies Television Celebrity Tech Innovate Foreseeable Future Mission: Ahead Work Transformed Innovative Cities Style Arts Design Fashion Architecture Luxury Beauty Video Travel Destinations Food & Drink Stay News Videos Sports Football Tennis Golf Motorsport US Sports Olympics Climbing Esports Hockey Science Space Life Unearthed Climate Solutions Weather Weather Video Climate Ukraine-Russia War Israel-Hamas War Features As Equals Call to Earth Freedom Project Impact Your World Inside Africa CNN Heroes Watch Live TV CNN Fast Shows A-Z CNN10 CNN Max CNN TV Schedules Listen CNN 5 Things Chasing Life with Dr. Sanjay Gupta The Assignment with Audie Cornish One Thing Tug of War CNN Political Briefing The Axe Files All There Is with Anderson Cooper All CNN Audio podcasts Games Daily Crossword Jumble Crossword Photo Shuffle Sudoblock Sudoku 5 Things Quiz About CNN Photos Investigations CNN Profiles CNN Leadership CNN Newsletters Work for CNN Follow CNN info The top numbered articles will be viewable to readers when programmed onto a page. Make sure you have 30 or more cards added to the container for the machine learning (ML) feature to work. Your queued up articles, seen in the violet section, will use ML to surface up relevant content to the reader based on their individual interests and preferences. Hiroshima 80th anniversary Trump’s Epstein storm ‘Cyberpunk city’ in China LGBTQ+ attacks Southern France wildfires Jaguar troubles Kelley Mack info The top numbered articles will be viewable to readers when programmed onto a page. Make sure you have 30 or more cards added to the container for the machine learning (ML) feature to work. Your queued up articles, seen in the violet section, will use ML to surface up relevant content to the reader based on their individual interests and preferences. Dhiraj Singh/Bloomberg/Getty Images Trump wants India to stop buying Russian oil. Why is Modi saying no? For years, India has balanced close partnerships with both Washington and Moscow, even throughout Ukraine war. Trump is finally demanding it picks a side AP Trump’s relentless tariff strategy finally crashes into delicate geopolitical reality President Donald Trump’s relentless use of tariffs to coerce foreign counterparts into favorable deals is about to run headlong into the limits of geopolitical reality. Gary Hershorn/Corbis News/Getty Images Trump’s tariffs are bringing in tens of billions of dollars a month. What’s the government doing with all that money? Hardly a day goes by without President Donald Trump boasting about the record tariff revenue the US government has been collecting since he ratcheted up taxes on almost every imported good. info The top numbered articles will be viewable to readers when programmed onto a page. Make sure you have 30 or more cards added to the container for the machine learning (ML) feature to work. Your queued up articles, seen in the violet section, will use ML to surface up relevant content to the reader based on their individual interests and preferences. Kremlin Putin-Witkoff meeting was ‘constructive,’ Kremlin says The meeting between US special envoy Steve Witkoff and Russian President Vladimir Putin on Wednesday was “constructive and useful” the Kremlin said, according to Russian state media TASS. Kremlin Witkoff meets with Putin as Trump’s sanctions threat looms info The top numbered articles will be viewable to readers when programmed onto a page. Make sure you have 30 or more cards added to the container for the machine learning (ML) feature to work. Your queued up articles, seen in the violet section, will use ML to surface up relevant content to the reader based on their individual interests and preferences. Maxwell transcript could make Epstein scandal even worse for Trump Show all • Analysis Analysis Adam Gray/Getty Images Analysis As the White House hoped the saga would fade, a new twist threatens to make things more complicated for the president In the latest turn of the immortal scandal over Jeffrey Epstein, CNN first reported Tuesday that Donald Trump’s administration has recorded conversations with Epstein’s convicted sex trafficker accomplice Ghislaine Maxwell and is working on a transcript, which it may even release. US District Court for the Southern District of New York Victims object to ‘public legitimization’ of Ghislaine Maxwell as judge weighs fate of Epstein grand jury transcripts Numerous victims of Jeffrey Epstein took aim at the “public legitimization” of his co-conspirator Ghislaine Maxwell as they urged a federal judge considering unsealing grand jury transcripts to take their privacy into account when making his decision. • First on CNN First on CNN US District Court for the Southern District of New York First on CNN Top Trump officials will discuss Epstein strategy at Wednesday dinner hosted by Vance Top Trump administration officials will gather at the vice president’s residence Wednesday evening as they continue to weigh whether to publish an audio recording and transcript of Deputy Attorney General Todd Blanche’s recent conversation with Jeffrey Epstein accomplice Ghislaine Maxwell. • Video 1:12 CNN Video Trump claims he didn’t know or approve Ghislaine Maxwell’s prison transfer 1:12 President Donald Trump told CNN’s Kaitlan Collins he wasn’t aware of Ghislaine Maxwell’s prison transfer, and praised Deputy Attorney General Todd Blanche when asked if he thought Ghislaine Maxwell is a credible witness. info The top numbered articles will be viewable to readers when programmed onto a page. Make sure you have 30 or more cards added to the container for the machine learning (ML) feature to work. Your queued up articles, seen in the violet section, will use ML to surface up relevant content to the reader based on their individual interests and preferences. Play Catch up on today's global news - Source: CNN Video Catch up on today’s global news info The top numbered articles will be viewable to readers when programmed onto a page. Make sure you have 30 or more cards added to the container for the machine learning (ML) feature to work. Your queued up articles, seen in the violet section, will use ML to surface up relevant content to the reader based on their individual interests and preferences. Norma Galeana/CNN US deportation fallout: This farmer’s crops are dying. There’s no one to pick the fruit Ad Feedback info The top numbered articles will be viewable to readers when programmed onto a page. Make sure you have 30 or more cards added to the container for the machine learning (ML) feature to work. Your queued up articles, seen in the violet section, will use ML to surface up relevant content to the reader based on their individual interests and preferences. More top stories • Breaking News Breaking News Craig T Fruchtman/Getty Images Breaking News Apple is investing another $100 billion in the US, Trump set to announce American journalist found after going missing on hike in Norwegian national park British opera company pulls performance in Israel after staff backlash Trump administration rolls back Elon Musk’s email telling federal employees to justify their jobs ‘The Walking Dead’ actress Kelley Mack dies at 33 Video ‘Diddy’s’ lawyer explains why she thinks their strategy worked 5:18 info The top numbered articles will be viewable to readers when programmed onto a page. Make sure you have 30 or more cards added to the container for the machine learning (ML) feature to work. Your queued up articles, seen in the violet section, will use ML to surface up relevant content to the reader based on their individual interests and preferences. LGBTQ+ Rights CNN Police say bystanders were told not to save a drowning woman. Killings didn’t stop there • Video 9:09 CNN Video A trans woman with broken limbs was thrown into a river to drown. Sara Millerey’s killing was brutal, but not unique 9:09 Frank Franklin II/AP Conversion therapy is quietly spreading across America again. These survivors say it nearly cost them their lives Ad Feedback info The top numbered articles will be viewable to readers when programmed onto a page. Make sure you have 30 or more cards added to the container for the machine learning (ML) feature to work. Your queued up articles, seen in the violet section, will use ML to surface up relevant content to the reader based on their individual interests and preferences. Travel & beyond Courtesy Joshua Guvi The mindbending ‘cyberpunk city’ in China that exists on so many levels Yara Nardi/Reuters Italy gives final go-ahead for landmark Sicily bridge project Ad Feedback info The top numbered articles will be viewable to readers when programmed onto a page. Make sure you have 30 or more cards added to the container for the machine learning (ML) feature to work. Your queued up articles, seen in the violet section, will use ML to surface up relevant content to the reader based on their individual interests and preferences. Sports corner Kirby Lee/Imagn/ Reuters Another sex toy thrown onto WNBA court, this time appears to hit Indiana Fever guard Sophie Cunningham info The top numbered articles will be viewable to readers when programmed onto a page. Make sure you have 30 or more cards added to the container for the machine learning (ML) feature to work. Your queued up articles, seen in the violet section, will use ML to surface up relevant content to the reader based on their individual interests and preferences. Emilee Chinn/Getty Images After pushing his rival, sprinter Kenny Bednarek has made up with Noah Lyles. He still expects ‘fireworks’ at their next race Courtesy the Maclean brothers Three brothers, one boat, a potential world record and a 9,000-mile mission for clean water Ad Feedback info The top numbered articles will be viewable to readers when programmed onto a page. Make sure you have 30 or more cards added to the container for the machine learning (ML) feature to work. Your queued up articles, seen in the violet section, will use ML to surface up relevant content to the reader based on their individual interests and preferences. Climate & Extreme weather • Video 0:46 Flash flooding struck northern India on Tuesday prompting at least 70 people to be evacuated while dozens remain missing, according to officials in Uttarakhand. At least four people have died in the flooding, which triggered a mudslide that was caught on video as it engulfed a Himalayan village. Newsflare Video Wall of water slams Himalayan village, leaving multiple dead and dozens feared trapped or missing 0:46 Rebecca Wright/CNN Australia’s Great Barrier Reef devastated by worst coral bleaching on record, new report finds Idriss Bigou-Gilles/AFP/Getty Images French firefighters battle to contain blaze that tore through area bigger than Paris info The top numbered articles will be viewable to readers when programmed onto a page. Make sure you have 30 or more cards added to the container for the machine learning (ML) feature to work. Your queued up articles, seen in the violet section, will use ML to surface up relevant content to the reader based on their individual interests and preferences. Health & Wellness CDC Do you need to cleanse your body of parasites? A doctor explains the social media fad ridvan_celik/E+/Getty Images Childhood verbal and physical abuse leave similar impacts, study shows Fareed Khan/AP The world nearly beat polio. But fake records, an imperfect vaccine and missteps aided its comeback Ad Feedback info The top numbered articles will be viewable to readers when programmed onto a page. Make sure you have 30 or more cards added to the container for the machine learning (ML) feature to work. Your queued up articles, seen in the violet section, will use ML to surface up relevant content to the reader based on their individual interests and preferences. Trump administration CNN Voters share the economic impacts of Trump’s megabill in battleground Arizona How Texas Republicans want to dismantle Democratic districts Analysis Why Trump is so fixated on ‘debanking’ info The top numbered articles will be viewable to readers when programmed onto a page. Make sure you have 30 or more cards added to the container for the machine learning (ML) feature to work. Your queued up articles, seen in the violet section, will use ML to surface up relevant content to the reader based on their individual interests and preferences. Culture fix Dave Hogan/Getty Images Ozzy Osbourne died of a heart attack, report says, citing death certificate Lady Gaga leads 2025 MTV Video Music Awards nominations Dior’s first permanent spa is inside its New York flagship. Here’s why it matters info The top numbered articles will be viewable to readers when programmed onto a page. Make sure you have 30 or more cards added to the container for the machine learning (ML) feature to work. Your queued up articles, seen in the violet section, will use ML to surface up relevant content to the reader based on their individual interests and preferences. Business & Tech Jakub Porzycki/NurPhoto/Shutterstock McDonald’s launched its biggest marketing campaign in history. It worked Underwater jetpack ‘feels superhuman,’ says designer of his $30,000 gadget Analysis Trump’s plan to punish buyers of Russian oil would hurt America’s own economy Ad Feedback info The top numbered articles will be viewable to readers when programmed onto a page. Make sure you have 30 or more cards added to the container for the machine learning (ML) feature to work. Your queued up articles, seen in the violet section, will use ML to surface up relevant content to the reader based on their individual interests and preferences. Around the world Makoto Kondo/The Yomiuri Shimbun/AP World marks 80 years since US dropped atomic bomb on Japan New Zealand evacuates three from US Antarctic base in high risk winter rescue info The top numbered articles will be viewable to readers when programmed onto a page. Make sure you have 30 or more cards added to the container for the machine learning (ML) feature to work. Your queued up articles, seen in the violet section, will use ML to surface up relevant content to the reader based on their individual interests and preferences. Crime & Investigations Joseph Scheller/The Montana Standard/AP The Owl Bar was the place where everybody knew your name. Then, a familiar face walked in – and opened fire An arrest has been made the killings of an abandoned Tennessee baby’s relatives. Here’s what we know info The top numbered articles will be viewable to readers when programmed onto a page. Make sure you have 30 or more cards added to the container for the machine learning (ML) feature to work. Your queued up articles, seen in the violet section, will use ML to surface up relevant content to the reader based on their individual interests and preferences. Science & discovery Juan Mabromata/AFP/Getty Images NASA wants US to be the first nation to put nuclear reactor on the moon Video How 300 resistors turned this sheet into a moving robot 0:46 info The top numbered articles will be viewable to readers when programmed onto a page. Make sure you have 30 or more cards added to the container for the machine learning (ML) feature to work. Your queued up articles, seen in the violet section, will use ML to surface up relevant content to the reader based on their individual interests and preferences. Call to Earth Show all Mark Ian Cook/Mangrove Photography Awards Bright pink birds, a snacking monkey and lurking crocodiles among winners of photo prize Adam Knox/American Bird Conservancy Thousands of mosquitoes are being dropped by drone over islands in Hawaii. Here’s why • Gallery Gallery Laura Butz/National Trust Gallery The ‘blue dragon’ is back from the brink Christian Åslund /Norwegian Polar Institute /Greenpeace Before and after photos show Arctic glaciers’ dramatic retreat Ad Feedback More from CNN info The top numbered articles will be viewable to readers when programmed onto a page. Make sure you have 30 or more cards added to the container for the machine learning (ML) feature to work. Your queued up articles, seen in the violet section, will use ML to surface up relevant content to the reader based on their individual interests and preferences. Mick Krever/CNN The only country that prohibits girls and women from higher education is cracking down even harder info The top numbered articles will be viewable to readers when programmed onto a page. Make sure you have 30 or more cards added to the container for the machine learning (ML) feature to work. Your queued up articles, seen in the violet section, will use ML to surface up relevant content to the reader based on their individual interests and preferences. Analysis Ukraine is now Trump’s war Huge earthquake may have triggered volcano’s first eruption in 600 years, Russian team says Inside the home of Pauline Karpidas, the art-world ‘grande dame’ who could be the last of her kind Why everyone is suddenly so obsessed with Jet2 Holidays What has America learned from the Sydney Sweeney situation? We asked the experts Scotland’s Instagram Highway became an overtourism nightmare. It could be worse Subscribe Sign in My Account Settings Newsletters Topics you follow Sign out Your CNN account Sign in to your CNN account Live TV Listen Watch World Africa Americas Asia Australia China Europe India Middle East United Kingdom US Politics Trump Facts First CNN Polls 2025 Elections Business Tech Media Calculators Videos Markets Pre-markets After-Hours Fear & Greed Investing Markets Now Nightcap Health Life, But Better Fitness Food Sleep Mindfulness Relationships Entertainment Movies Television Celebrity Tech Innovate Foreseeable Future Mission: Ahead Work Transformed Innovative Cities Style Arts Design Fashion Architecture Luxury Beauty Video Travel Destinations Food & Drink Stay News Videos Sports Football Tennis Golf Motorsport US Sports Olympics Climbing Esports Hockey Science Space Life Unearthed Climate Solutions Weather Weather Video Climate Ukraine-Russia War Israel-Hamas War Features As Equals Call to Earth Freedom Project Impact Your World Inside Africa CNN Heroes Watch Live TV CNN Fast Shows A-Z CNN10 CNN Max CNN TV Schedules Listen CNN 5 Things Chasing Life with Dr. Sanjay Gupta The Assignment with Audie Cornish One Thing Tug of War CNN Political Briefing The Axe Files All There Is with Anderson Cooper All CNN Audio podcasts Games Daily Crossword Jumble Crossword Photo Shuffle Sudoblock Sudoku 5 Things Quiz About CNN Photos Investigations CNN Profiles CNN Leadership CNN Newsletters Work for CNN Watch Listen Live TV Follow CNN Subscribe Sign in My Account Settings Newsletters Topics you follow Sign out Your CNN account Sign in to your CNN account Terms of Use Privacy Policy Manage Cookies+ Ad Choices Accessibility & CC About Newsletters Transcripts © 2025 Cable News Network. A Warner Bros. Discovery Company. All Rights Reserved. CNN Sans ™ & © 2016 Cable News Network. Our use of cookies and other technologies We, our affiliates , and our 46 partners store and access personal data, like browsing data or unique identifiers, on your device. Selecting \"Allow All\" enables tracking technologies to support the purposes shown under we and our partners process data to provide. Selecting \"Essential Cookies Only\" or withdrawing your consent will disable them. If trackers are disabled, some content and ads you see may not be as relevant to you. You can resurface this menu to change your choices or withdraw consent at any time by clicking the \"Manage Cookies+\" link on the bottom of the webpage. Your choices will have effect within our website and applications. For more details, refer to our Privacy Policy . We and our partners process data to provide: Store and/or access information on a device. Use limited data to select advertising. Use profiles to select personalised advertising. Create profiles for personalised advertising. Use profiles to select personalised content. Create profiles to personalise content. Measure advertising performance. Measure content performance. Understand audiences through statistics or combinations of data from different sources. Develop and improve services. List of Partners (vendors) Accept All Essential Cookies Only Show Purposes About Your Privacy We process your data to deliver content or advertisements and measure the delivery of such content or advertisements to extract insights about our website. We share this information with our partners on the basis of consent. You may exercise your right to consent, based on a specific purpose below or at a partner level in the link under each purpose. Some vendors may process your data based on their legitimate interests, which does not require your consent. You cannot object to tracking technologies placed to ensure security, prevent fraud, fix errors, or deliver and present advertising and content, and precise geolocation data and active scanning of device characteristics for identification may be used to support this purpose. This exception does not apply to targeted advertising. These choices will be signaled to our vendors participating in the Transparency and Consent Framework. The choices you make regarding the purposes and vendors listed in this notice are saved and stored locally on your device for a maximum duration of 1 year. More information Manage Consent Preferences Store and/or access information on a device 41 partners can use this purpose Store and/or access information on a device Cookies, device or similar online identifiers (e.g. login-based identifiers, randomly assigned identifiers, network based identifiers) together with other information (e.g. browser type and information, language, screen size, supported technologies etc.) can be stored or read on your device to recognise it each time it connects to an app or to a website, for one or several of the purposes presented here. List of IAB Vendors‎ | View Illustrations Use limited data to select advertising 33 partners can use this purpose Use limited data to select advertising Advertising presented to you on this service can be based on limited data, such as the website or app you are using, your non-precise location, your device type or which content you are (or have been) interacting with (for example, to limit the number of times an ad is presented to you). List of IAB Vendors‎ | View Illustrations Use profiles to select personalised advertising 30 partners can use this purpose Use profiles to select personalised advertising Advertising presented to you on this service can be based on your advertising profiles, which can reflect your activity on this service or other websites or apps (like the forms you submit, content you look at), possible interests and personal aspects. List of IAB Vendors‎ | View Illustrations Create profiles for personalised advertising 32 partners can use this purpose Create profiles for personalised advertising Information about your activity on this service (such as forms you submit, content you look at) can be stored and combined with other information about you (for example, information from your previous activity on this service and other websites or apps) or similar users. This is then used to build or improve a profile about you (that might include possible interests and personal aspects). Your profile can be used (also later) to present advertising that appears more relevant based on your possible interests by this and other entities. List of IAB Vendors‎ | View Illustrations Use profiles to select personalised content 6 partners can use this purpose Use profiles to select personalised content Content presented to you on this service can be based on your content personalisation profiles, which can reflect your activity on this or other services (for instance, the forms you submit, content you look at), possible interests and personal aspects. This can for example be used to adapt the order in which content is shown to you, so that it is even easier for you to find (non-advertising) content that matches your interests. List of IAB Vendors‎ | View Illustrations Create profiles to personalise content 8 partners can use this purpose Create profiles to personalise content Information about your activity on this service (for instance, forms you submit, non-advertising content you look at) can be stored and combined with other information about you (such as your previous activity on this service or other websites or apps) or similar users. This is then used to build or improve a profile about you (which might for example include possible interests and personal aspects). Your profile can be used (also later) to present content that appears more relevant based on your possible interests, such as by adapting the order in which content is shown to you, so that it is even easier for you to find content that matches your interests. List of IAB Vendors‎ | View Illustrations Measure advertising performance 33 partners can use this purpose Measure advertising performance Information regarding which advertising is presented to you and how you interact with it can be used to determine how well an advert has worked for you or other users and whether the goals of the advertising were reached. For instance, whether you saw an ad, whether you clicked on it, whether it led you to buy a product or visit a website, etc. This is very helpful to understand the relevance of advertising campaigns. List of IAB Vendors‎ | View Illustrations Measure content performance 15 partners can use this purpose Measure content performance Information regarding which content is presented to you and how you interact with it can be used to determine whether the (non-advertising) content e.g. reached its intended audience and matched your interests. For instance, whether you read an article, watch a video, listen to a podcast or look at a product description, how long you spent on this service and the web pages you visit etc. This is very helpful to understand the relevance of (non-advertising) content that is shown to you. List of IAB Vendors‎ | View Illustrations Understand audiences through statistics or combinations of data from different sources 20 partners can use this purpose Understand audiences through statistics or combinations of data from different sources Reports can be generated based on the combination of data sets (like user profiles, statistics, market research, analytics data) regarding your interactions and those of other users with advertising or (non-advertising) content to identify common characteristics (for instance, to determine which target audiences are more receptive to an ad campaign or to certain contents). List of IAB Vendors‎ | View Illustrations Develop and improve services 32 partners can use this purpose Develop and improve services Information about your activity on this service, such as your interaction with ads or content, can be very helpful to improve products and services and to build new products and services based on user interactions, the type of audience, etc. This specific purpose does not include the development or improvement of user profiles and identifiers. List of IAB Vendors‎ | View Illustrations Ensure security, prevent and detect fraud, and fix errors 40 partners can use this special purpose Always Active Your data can be used to monitor for and prevent unusual and possibly fraudulent activity (for example, regarding advertising, ad clicks by bots), and ensure systems and processes work properly and securely. It can also be used to correct any problems you, the publisher or the advertiser may encounter in the delivery of content and ads and in your interaction with them. List of IAB Vendors‎ | View Illustrations Deliver and present advertising and content 33 partners can use this special purpose Always Active Certain information (like an IP address or device capabilities) is used to ensure the technical compatibility of the content or advertising, and to facilitate the transmission of the content or ad to your device. List of IAB Vendors‎ | View Illustrations Save and communicate privacy choices 25 partners can use this special purpose Always Active The choices you make regarding the purposes and entities listed in this notice are saved and made available to those entities in the form of digital signals (such as a string of characters). This is necessary in order to enable both this service and those entities to respect such choices. List of IAB Vendors‎ | View Illustrations Match and combine data from other data sources 28 partners can use this feature Always Active Information about your activity on this service may be matched and combined with other information relating to you and originating from various sources (for instance your activity on a separate online service, your use of a loyalty card in-store, or your answers to a survey), in support of the purposes explained in this notice. List of IAB Vendors‎ Link different devices 26 partners can use this feature Always Active In support of the purposes explained in this notice, your device might be considered as likely linked to other devices that belong to you or your household (for instance because you are logged in to the same service on both your phone and your computer, or because you may use the same Internet connection on both devices). List of IAB Vendors‎ Identify devices based on information transmitted automatically 32 partners can use this feature Always Active Your device might be distinguished from other devices based on information it automatically sends when accessing the Internet (for instance, the IP address of your Internet connection or the type of browser you are using) in support of the purposes exposed in this notice. List of IAB Vendors‎ Strictly Necessary Cookies Always Active These cookies are necessary for the website to function and cannot be switched off in our systems. You can set your browser to block or alert you about these cookies, but some parts of the site will not work. Back Button Cookie List Search Icon Filter Icon Clear checkbox label label Apply Cancel Consent Leg.Interest checkbox label label checkbox label label checkbox label label Allow All Essential Cookies Only Save Preferences\n"
     ]
    }
   ],
   "source": [
    "tool_dict = {tool.name:tool for tool in playwright_tools}\n",
    "\n",
    "navigate_tool = tool_dict.get(\"navigate_browser\")\n",
    "extract_text_tool = tool_dict.get(\"extract_text\")\n",
    "    \n",
    "await navigate_tool.arun({\"url\": \"https://www.cnn.com\"})\n",
    "text = await extract_text_tool.arun({})\n",
    "# await is used so that after first task finished, only then 2nd task should be done\n",
    "\n",
    "print(text)"
   ]
  },
  {
   "cell_type": "code",
   "execution_count": 5,
   "id": "9c45e062",
   "metadata": {},
   "outputs": [],
   "source": [
    "from langchain.chat_models import init_chat_model\n",
    "llm = init_chat_model(\"gpt-4o-mini\")\n",
    "\n",
    "tools = [tool_search] + playwright_tools\n",
    "\n",
    "llm_with_tools = llm.bind_tools(tools)\n"
   ]
  },
  {
   "cell_type": "markdown",
   "id": "e5c64a34",
   "metadata": {},
   "source": [
    "### 3. Creating a node (chatbot node)"
   ]
  },
  {
   "cell_type": "markdown",
   "id": "1fe078bb",
   "metadata": {},
   "source": [
    "-  chatbot node function takes the current State as input and returns a dictionary containing an updated messages\n",
    "- add_messages function in State will append the LLM's response messages to whatever messages are already in the state."
   ]
  },
  {
   "cell_type": "code",
   "execution_count": 6,
   "id": "0aa41e97",
   "metadata": {},
   "outputs": [
    {
     "data": {
      "text/plain": [
       "<langgraph.graph.state.StateGraph at 0x23132ab2900>"
      ]
     },
     "execution_count": 6,
     "metadata": {},
     "output_type": "execute_result"
    }
   ],
   "source": [
    "from langgraph.prebuilt import ToolNode, tools_condition\n",
    "\n",
    "def chatbot(state: State):\n",
    "    return {\"messages\" : [llm_with_tools.invoke(state[\"messages\"])]}\n",
    "\n",
    "graph_builder.add_node(\"chatbot\", chatbot)\n",
    "graph_builder.add_node(\"tools\", ToolNode(tools = tools))\n",
    "# node_name, function_name\n"
   ]
  },
  {
   "cell_type": "markdown",
   "id": "a11773e1",
   "metadata": {},
   "source": [
    "### 4. Adding edges"
   ]
  },
  {
   "cell_type": "markdown",
   "id": "a1aa5567",
   "metadata": {},
   "source": [
    "- START - entry point, where to start each time its run\n",
    "- END - exit point, where graph should finish execution"
   ]
  },
  {
   "cell_type": "code",
   "execution_count": 7,
   "id": "c7407752",
   "metadata": {},
   "outputs": [
    {
     "data": {
      "text/plain": [
       "<langgraph.graph.state.StateGraph at 0x23132ab2900>"
      ]
     },
     "execution_count": 7,
     "metadata": {},
     "output_type": "execute_result"
    }
   ],
   "source": [
    "graph_builder.add_edge(START, \"chatbot\")\n",
    "graph_builder.add_conditional_edges(\"chatbot\", tools_condition, \"tools\")\n",
    "graph_builder.add_edge(\"tools\", \"chatbot\")\n",
    "graph_builder.add_edge(\"chatbot\", END)"
   ]
  },
  {
   "cell_type": "markdown",
   "id": "a9b5413a",
   "metadata": {},
   "source": [
    "### 5. Compiling and Visualizing the graph"
   ]
  },
  {
   "cell_type": "markdown",
   "id": "f4f7694e",
   "metadata": {},
   "source": [
    "- before running the graph we need to compile it"
   ]
  },
  {
   "cell_type": "code",
   "execution_count": 17,
   "id": "6b2f9739",
   "metadata": {},
   "outputs": [],
   "source": [
    "graph = graph_builder.compile()"
   ]
  },
  {
   "cell_type": "code",
   "execution_count": 9,
   "id": "3ac7aa9c",
   "metadata": {},
   "outputs": [
    {
     "data": {
      "image/png": "[encoded data removed]",
      "text/plain": [
       "<IPython.core.display.Image object>"
      ]
     },
     "metadata": {},
     "output_type": "display_data"
    }
   ],
   "source": [
    "from IPython.display import Image, display_json\n",
    "display(Image(graph.get_graph().draw_mermaid_png()))"
   ]
  },
  {
   "cell_type": "markdown",
   "metadata": {},
   "source": []
  },
  {
   "cell_type": "markdown",
   "id": "67e0df0b",
   "metadata": {},
   "source": [
    "### 6. Chat Interface"
   ]
  },
  {
   "cell_type": "code",
   "execution_count": null,
   "id": "02d0c7f5",
   "metadata": {},
   "outputs": [
    {
     "name": "stdout",
     "output_type": "stream",
     "text": [
      "* Running on local URL:  http://127.0.0.1:7865\n",
      "* To create a public link, set `share=True` in `launch()`.\n"
     ]
    },
    {
     "data": {
      "text/html": [
       "<div><iframe src=\"http://127.0.0.1:7865/\" width=\"100%\" height=\"500\" allow=\"autoplay; camera; microphone; clipboard-read; clipboard-write;\" frameborder=\"0\" allowfullscreen></iframe></div>"
      ],
      "text/plain": [
       "<IPython.core.display.HTML object>"
      ]
     },
     "metadata": {},
     "output_type": "display_data"
    },
    {
     "data": {
      "text/plain": []
     },
     "execution_count": 18,
     "metadata": {},
     "output_type": "execute_result"
    },
    {
     "name": "stdout",
     "output_type": "stream",
     "text": [
      "{'messages': [HumanMessage(content='tell me about the top 5 products on amazon', additional_kwargs={}, response_metadata={}, id='8b19dce7-8987-4015-85b3-078affb1b226'), AIMessage(content='', additional_kwargs={'tool_calls': [{'id': 'call_4l3g7GGVXidnflgqT9M0xOLl', 'function': {'arguments': '{\"__arg1\":\"top selling products on amazon\"}', 'name': 'search'}, 'type': 'function'}], 'refusal': None}, response_metadata={'token_usage': {'completion_tokens': 19, 'prompt_tokens': 281, 'total_tokens': 300, 'completion_tokens_details': {'accepted_prediction_tokens': 0, 'audio_tokens': 0, 'reasoning_tokens': 0, 'rejected_prediction_tokens': 0}, 'prompt_tokens_details': {'audio_tokens': 0, 'cached_tokens': 0}}, 'model_name': 'gpt-4o-mini-2024-07-18', 'system_fingerprint': 'fp_34a54ae93c', 'id': 'chatcmpl-C1YvHdyQI2WJOap3vYAZEzvxhqclb', 'service_tier': 'default', 'finish_reason': 'tool_calls', 'logprobs': None}, id='run--69682008-59ae-4112-9ffb-cfde4a7843fc-0', tool_calls=[{'name': 'search', 'args': {'__arg1': 'top selling products on amazon'}, 'id': 'call_4l3g7GGVXidnflgqT9M0xOLl', 'type': 'tool_call'}], usage_metadata={'input_tokens': 281, 'output_tokens': 19, 'total_tokens': 300, 'input_token_details': {'audio': 0, 'cache_read': 0}, 'output_token_details': {'audio': 0, 'reasoning': 0}}), ToolMessage(content='Best Sellers in Clothing, Shoes & Jewelry. arrowtext · #1. Crocs Unisex Adult Classic Clog · #2. JanSport SuperBreak One Backpacks - Durable, Lightweight ... Products to consider: Stanley Quencher, Owala, and HydroJug. The Stanley Quencher takes a top spot in the Home & Kitchen category in the Amazon ... The most frequent terms — like \"Pack,\" \"Set,\" \"Black,\" or \"Kid\" — seems to be a language of persuasion. Best Sellers in Kitchen & Dining. arrowtext · #1. Stanley Quencher H2. · #2. KitchenAid Ribbed Soft Silicone Oven Mitt Set, 7\"x13\", Milkshake 2 Count · #3 · #4. Top-Selling Items on Amazon · 1. Amazon Basics Printer Paper 20lb Copy Paper · 2. Apple 2025 MacBook Air 13-inch · 3. Brampton Monaco 9-Piece ... International Best Sellers. Top products shipped internationally including electronics, baby, books, and more. See Similar. Over 1,000 results in Explore Best ... Kitchen & Home · 1. Coffee Pod Organizer · 2. Table Apron · 3. Hanging Organizer Set · 4. Shower Curtains for Bathroom · 5. Candle Warmer Lamp.', name='search', id='cad442aa-7429-433b-abf7-ddac6a6d163c', tool_call_id='call_4l3g7GGVXidnflgqT9M0xOLl'), AIMessage(content=\"Here are the top 5 products currently popular on Amazon:\\n\\n1. **Crocs Unisex Adult Classic Clog** - A renowned, comfortable footwear option that's great for casual wear.\\n  \\n2. **JanSport SuperBreak One Backpacks** - A durable and lightweight backpack suitable for school, travel, and everyday use.\\n\\n3. **Stanley Quencher H2** - A popular water bottle celebrated for its size and insulation, perfect for hydration on the go.\\n\\n4. **KitchenAid Ribbed Soft Silicone Oven Mitt Set** - These versatile and heat-resistant oven mitts make cooking and baking safer and easier.\\n\\n5. **Amazon Basics Printer Paper (20lb Copy Paper)** - A reliable choice for everyday printing needs, appealing to both home and office users.\\n\\nThese products span various categories, including footwear, accessories, kitchen items, and office supplies.\", additional_kwargs={'refusal': None}, response_metadata={'token_usage': {'completion_tokens': 173, 'prompt_tokens': 574, 'total_tokens': 747, 'completion_tokens_details': {'accepted_prediction_tokens': 0, 'audio_tokens': 0, 'reasoning_tokens': 0, 'rejected_prediction_tokens': 0}, 'prompt_tokens_details': {'audio_tokens': 0, 'cached_tokens': 0}}, 'model_name': 'gpt-4o-mini-2024-07-18', 'system_fingerprint': 'fp_34a54ae93c', 'id': 'chatcmpl-C1YvL60YnIHWdFz0WIfG3IzHoZ2a8', 'service_tier': 'default', 'finish_reason': 'stop', 'logprobs': None}, id='run--2d70485a-b83b-466b-9aa4-729fe2a728ca-0', usage_metadata={'input_tokens': 574, 'output_tokens': 173, 'total_tokens': 747, 'input_token_details': {'audio': 0, 'cache_read': 0}, 'output_token_details': {'audio': 0, 'reasoning': 0}})]}\n",
      "{'messages': [HumanMessage(content='tell me about the 2nd product', additional_kwargs={}, response_metadata={}, id='9692ac97-e61b-4c95-8aa8-0d0646dc4489'), AIMessage(content='', additional_kwargs={'tool_calls': [{'id': 'call_35B4uGqJdRJ8PqcPooGTYibw', 'function': {'arguments': '{\"absolute_urls\":true}', 'name': 'extract_hyperlinks'}, 'type': 'function'}], 'refusal': None}, response_metadata={'token_usage': {'completion_tokens': 17, 'prompt_tokens': 279, 'total_tokens': 296, 'completion_tokens_details': {'accepted_prediction_tokens': 0, 'audio_tokens': 0, 'reasoning_tokens': 0, 'rejected_prediction_tokens': 0}, 'prompt_tokens_details': {'audio_tokens': 0, 'cached_tokens': 0}}, 'model_name': 'gpt-4o-mini-2024-07-18', 'system_fingerprint': 'fp_34a54ae93c', 'id': 'chatcmpl-C1Z2X8Vh2ae6BqOdZfvFqKbOyanVr', 'service_tier': 'default', 'finish_reason': 'tool_calls', 'logprobs': None}, id='run--9291b5ec-c814-4697-99b3-ee31987ee208-0', tool_calls=[{'name': 'extract_hyperlinks', 'args': {'absolute_urls': True}, 'id': 'call_35B4uGqJdRJ8PqcPooGTYibw', 'type': 'tool_call'}], usage_metadata={'input_tokens': 279, 'output_tokens': 17, 'total_tokens': 296, 'input_token_details': {'audio': 0, 'cache_read': 0}, 'output_token_details': {'audio': 0, 'reasoning': 0}}), ToolMessage(content=\"Error: ValueError('Synchronous browser not provided to extract_hyperlinks')\\n Please fix your mistakes.\", name='extract_hyperlinks', id='9c02dc7f-a380-428b-8747-8083a8c3e08a', tool_call_id='call_35B4uGqJdRJ8PqcPooGTYibw', status='error'), AIMessage(content='', additional_kwargs={'tool_calls': [{'id': 'call_fMAKoFJkILNmEUTnaHSS3YAd', 'function': {'arguments': '{}', 'name': 'extract_text'}, 'type': 'function'}], 'refusal': None}, response_metadata={'token_usage': {'completion_tokens': 10, 'prompt_tokens': 327, 'total_tokens': 337, 'completion_tokens_details': {'accepted_prediction_tokens': 0, 'audio_tokens': 0, 'reasoning_tokens': 0, 'rejected_prediction_tokens': 0}, 'prompt_tokens_details': {'audio_tokens': 0, 'cached_tokens': 0}}, 'model_name': 'gpt-4o-mini-2024-07-18', 'system_fingerprint': 'fp_34a54ae93c', 'id': 'chatcmpl-C1Z2YOb9hbRWEaDsv4jD9IrlnpyJA', 'service_tier': 'default', 'finish_reason': 'tool_calls', 'logprobs': None}, id='run--aa1505a0-b67a-43ab-8fa5-b419c824ee65-0', tool_calls=[{'name': 'extract_text', 'args': {}, 'id': 'call_fMAKoFJkILNmEUTnaHSS3YAd', 'type': 'tool_call'}], usage_metadata={'input_tokens': 327, 'output_tokens': 10, 'total_tokens': 337, 'input_token_details': {'audio': 0, 'cache_read': 0}, 'output_token_details': {'audio': 0, 'reasoning': 0}}), ToolMessage(content=\"Error: ValueError('Synchronous browser not provided to extract_text')\\n Please fix your mistakes.\", name='extract_text', id='82536cf1-9c4a-465c-ac69-c63517d3e244', tool_call_id='call_fMAKoFJkILNmEUTnaHSS3YAd', status='error'), AIMessage(content='', additional_kwargs={'tool_calls': [{'id': 'call_0L3BarPw8ctDcGGj6C5iclTv', 'function': {'arguments': '{}', 'name': 'current_webpage'}, 'type': 'function'}], 'refusal': None}, response_metadata={'token_usage': {'completion_tokens': 11, 'prompt_tokens': 364, 'total_tokens': 375, 'completion_tokens_details': {'accepted_prediction_tokens': 0, 'audio_tokens': 0, 'reasoning_tokens': 0, 'rejected_prediction_tokens': 0}, 'prompt_tokens_details': {'audio_tokens': 0, 'cached_tokens': 0}}, 'model_name': 'gpt-4o-mini-2024-07-18', 'system_fingerprint': 'fp_34a54ae93c', 'id': 'chatcmpl-C1Z2aehrSoJa7o6IBFVlOGHWY6wuo', 'service_tier': 'default', 'finish_reason': 'tool_calls', 'logprobs': None}, id='run--6a693a40-d701-42e0-aca2-4848a1dd9fef-0', tool_calls=[{'name': 'current_webpage', 'args': {}, 'id': 'call_0L3BarPw8ctDcGGj6C5iclTv', 'type': 'tool_call'}], usage_metadata={'input_tokens': 364, 'output_tokens': 11, 'total_tokens': 375, 'input_token_details': {'audio': 0, 'cache_read': 0}, 'output_token_details': {'audio': 0, 'reasoning': 0}}), ToolMessage(content=\"Error: ValueError('Synchronous browser not provided to current_webpage')\\n Please fix your mistakes.\", name='current_webpage', id='4c46425a-ddaa-4e10-abbc-84a529897001', tool_call_id='call_0L3BarPw8ctDcGGj6C5iclTv', status='error'), AIMessage(content='It seems that I am currently unable to access specific webpage details or extract information. If you could provide me with the context or details about the product you are referring to, I would be happy to help you with the information you need!', additional_kwargs={'refusal': None}, response_metadata={'token_usage': {'completion_tokens': 48, 'prompt_tokens': 404, 'total_tokens': 452, 'completion_tokens_details': {'accepted_prediction_tokens': 0, 'audio_tokens': 0, 'reasoning_tokens': 0, 'rejected_prediction_tokens': 0}, 'prompt_tokens_details': {'audio_tokens': 0, 'cached_tokens': 0}}, 'model_name': 'gpt-4o-mini-2024-07-18', 'system_fingerprint': 'fp_34a54ae93c', 'id': 'chatcmpl-C1Z2cXKbDLnimA5hikFe0pucTVgC3', 'service_tier': 'default', 'finish_reason': 'stop', 'logprobs': None}, id='run--2ccdf471-bab9-47cb-8daf-04b30210e45b-0', usage_metadata={'input_tokens': 404, 'output_tokens': 48, 'total_tokens': 452, 'input_token_details': {'audio': 0, 'cache_read': 0}, 'output_token_details': {'audio': 0, 'reasoning': 0}})]}\n"
     ]
    }
   ],
   "source": [
    "import gradio as gr \n",
    "\n",
    "def chat(user_input, history):\n",
    "    initial_state = State(messages = [{\"role\": \"user\", \"content\": user_input}])\n",
    "    result = graph.invoke(initial_state)\n",
    "    print(result)\n",
    "    return result['messages'][-1].content\n",
    "\n",
    "\n",
    "gr.ChatInterface(chat, type=\"messages\").launch()"
   ]
  },
  {
   "cell_type": "markdown",
   "metadata": {},
   "source": [
    "### 6. MEMORYY !!!"
   ]
  },
  {
   "cell_type": "markdown",
   "id": "11c6ad6b",
   "metadata": {},
   "source": [
    "memory based on thread_id, we can make this as user_id"
   ]
  },
  {
   "cell_type": "code",
   "execution_count": 19,
   "id": "d52c155b",
   "metadata": {},
   "outputs": [],
   "source": [
    "from langgraph.checkpoint.memory import MemorySaver\n",
    "\n",
    "memory = MemorySaver()\n",
    "graph = graph_builder.compile(checkpointer=memory)"
   ]
  },
  {
   "cell_type": "code",
   "execution_count": 20,
   "metadata": {},
   "outputs": [
    {
     "name": "stdout",
     "output_type": "stream",
     "text": [
      "* Running on local URL:  http://127.0.0.1:7866\n",
      "* To create a public link, set `share=True` in `launch()`.\n"
     ]
    },
    {
     "data": {
      "text/html": [
       "<div><iframe src=\"http://127.0.0.1:7866/\" width=\"100%\" height=\"500\" allow=\"autoplay; camera; microphone; clipboard-read; clipboard-write;\" frameborder=\"0\" allowfullscreen></iframe></div>"
      ],
      "text/plain": [
       "<IPython.core.display.HTML object>"
      ]
     },
     "metadata": {},
     "output_type": "display_data"
    },
    {
     "data": {
      "text/plain": []
     },
     "execution_count": 20,
     "metadata": {},
     "output_type": "execute_result"
    }
   ],
   "source": [
    "config = {\"configurable\": {\"thread_id\": \"10\"}}\n",
    "\n",
    "async def chat(user_input: str, history):\n",
    "    result = await graph.ainvoke({\"messages\": [{\"role\": \"user\", \"content\": user_input}]}, config=config)\n",
    "    return result[\"messages\"][-1].content\n",
    "\n",
    "\n",
    "gr.ChatInterface(chat, type=\"messages\").launch()"
   ]
  },
  {
   "cell_type": "code",
   "execution_count": null,
   "id": "170fb12c",
   "metadata": {},
   "outputs": [],
   "source": []
  }
 ],
 "metadata": {
  "kernelspec": {
   "display_name": ".venv",
   "language": "python",
   "name": "python3"
  },
  "language_info": {
   "codemirror_mode": {
    "name": "ipython",
    "version": 3
   },
   "file_extension": ".py",
   "mimetype": "text/x-python",
   "name": "python",
   "nbconvert_exporter": "python",
   "pygments_lexer": "ipython3",
   "version": "3.12.6"
  }
 },
 "nbformat": 4,
 "nbformat_minor": 5
}
